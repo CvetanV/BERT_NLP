{
  "nbformat": 4,
  "nbformat_minor": 0,
  "metadata": {
    "colab": {
      "provenance": [],
      "authorship_tag": "ABX9TyNfDd4L60Q/971hnAXsoedX",
      "include_colab_link": true
    },
    "kernelspec": {
      "name": "python3",
      "display_name": "Python 3"
    },
    "language_info": {
      "name": "python"
    }
  },
  "cells": [
    {
      "cell_type": "markdown",
      "metadata": {
        "id": "view-in-github",
        "colab_type": "text"
      },
      "source": [
        "<a href=\"https://colab.research.google.com/github/CvetanV/BERT_NLP/blob/main/BERT_NLP_Text_Translator.ipynb\" target=\"_parent\"><img src=\"https://colab.research.google.com/assets/colab-badge.svg\" alt=\"Open In Colab\"/></a>"
      ]
    },
    {
      "cell_type": "markdown",
      "source": [
        "## BERT NLP Text Translator\n",
        "### In this notebook I am implementing transformers in order to translate text from English to German and from English to Italian language."
      ],
      "metadata": {
        "id": "Gbn99Ka5iary"
      }
    },
    {
      "cell_type": "code",
      "execution_count": 8,
      "metadata": {
        "id": "MYWS3uPMfRB1"
      },
      "outputs": [],
      "source": [
        "# Install the transformers library that contains everything that we need for the NLP implementation\n",
        "%%capture\n",
        "!pip install transformers[sentencepiece] "
      ]
    },
    {
      "cell_type": "code",
      "source": [
        "# Import the pipeline framework from the transformers library and textwrap\n",
        "from transformers import pipeline\n",
        "import textwrap\n",
        "wrapper = textwrap.TextWrapper(width=80, break_long_words=False, break_on_hyphens=False)"
      ],
      "metadata": {
        "id": "6CHMcSpHfVUx"
      },
      "execution_count": 9,
      "outputs": []
    },
    {
      "cell_type": "markdown",
      "source": [
        "## Example 1: English to German\n"
      ],
      "metadata": {
        "id": "EQXGkK6afaRd"
      }
    },
    {
      "cell_type": "code",
      "source": [
        "# The code bellow uses the Hugging Face `pipeline` module to perform English to German translation using the `t5-base` model. \n",
        "# The `pipeline` function takes two arguments: the task to be performed (`translation_en_to_de`) and \n",
        "# the name of the model (`t5-base`). \n",
        "# Then, the `translator` function is called with the English sentence as input. \n",
        "# The output is a list with a single dictionary item, which contains the translated sentence under the \n",
        "# key `'translation_text'`. \n",
        "# Finally, the original and translated sentences are printed to the console using the `print` function.\n",
        "\n",
        "english = '''The code bellow uses the Hugging Face `pipeline` module to perform English to German translation using the `t5-base` model.'''\n",
        "\n",
        "translator = pipeline('translation_en_to_de', model='t5-base')\n",
        "german = translator(english)\n",
        "print('\\nEnglish:')\n",
        "print(english)\n",
        "print('\\nGerman:')\n",
        "print(german[0]['translation_text'])"
      ],
      "metadata": {
        "colab": {
          "base_uri": "https://localhost:8080/"
        },
        "id": "x20mNrm5fbpc",
        "outputId": "ddc47779-e7fe-4ede-de7f-501d1edab383"
      },
      "execution_count": 5,
      "outputs": [
        {
          "output_type": "stream",
          "name": "stdout",
          "text": [
            "\n",
            "English:\n",
            "The code bellow uses the Hugging Face `pipeline` module to perform English to German translation using the `t5-base` model.\n",
            "\n",
            "German:\n",
            "Der Code im folgenden verwendet das Hugging Face pipeline Modul um die englische in deutsche Übersetzung mit dem t5-base-Modell durchzuführen.\n"
          ]
        }
      ]
    },
    {
      "cell_type": "markdown",
      "source": [
        "## Example 2: English to Italian"
      ],
      "metadata": {
        "id": "eg8MQXxEfdU7"
      }
    },
    {
      "cell_type": "code",
      "source": [
        "from transformers import MarianMTModel, MarianTokenizer\n",
        "model_name = \"Helsinki-NLP/opus-mt-en-it\"  # English to Italian translation\n",
        "tokenizer = MarianTokenizer.from_pretrained(model_name)\n",
        "model = MarianMTModel.from_pretrained(model_name)\n",
        "\n",
        "english = \"The code below uses the Hugging Face `pipeline` module to perform English to Italian translation using the `t5-base` model.\"\n",
        "\n",
        "inputs = tokenizer.encode(english, return_tensors=\"pt\")\n",
        "translated = model.generate(inputs, max_length=128, num_beams=4, no_repeat_ngram_size=3)\n",
        "italian = [tokenizer.decode(t, skip_special_tokens=True) for t in translated]\n",
        "\n",
        "print(\"\\nEnglish:\")\n",
        "print(english)\n",
        "print(\"\\nItalian:\")\n",
        "print(italian[0])"
      ],
      "metadata": {
        "colab": {
          "base_uri": "https://localhost:8080/"
        },
        "id": "VmUULlz8glFi",
        "outputId": "9d4040ac-a6d6-45c7-c8d3-a84fc1722986"
      },
      "execution_count": 19,
      "outputs": [
        {
          "output_type": "stream",
          "name": "stdout",
          "text": [
            "\n",
            "English:\n",
            "The code below uses the Hugging Face `pipeline` module to perform English to Italian translation using the `t5-base` model.\n",
            "\n",
            "Italian:\n",
            "Il codice di seguito riportato utilizza il modulo Hugging Face per eseguire la traduzione in italiano da inglese a italiano utilizzando il modello di Hogging Face-pipeline.\n"
          ]
        }
      ]
    },
    {
      "cell_type": "code",
      "source": [],
      "metadata": {
        "id": "KBHbDh0_iHiS"
      },
      "execution_count": null,
      "outputs": []
    }
  ]
}