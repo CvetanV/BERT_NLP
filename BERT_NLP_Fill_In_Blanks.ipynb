{
  "nbformat": 4,
  "nbformat_minor": 0,
  "metadata": {
    "colab": {
      "provenance": []
    },
    "kernelspec": {
      "name": "python3",
      "display_name": "Python 3"
    },
    "language_info": {
      "name": "python"
    }
  },
  "cells": [
    {
      "cell_type": "markdown",
      "source": [
        "# BERT NLP Filling in banks in a sentence\n",
        "## In this notebook I am implementing transformers in order to understand the semantics of the sentence and fill in the blank words which are selected as [MASK]"
      ],
      "metadata": {
        "id": "9HseAnYBSCwf"
      }
    },
    {
      "cell_type": "code",
      "source": [
        "# Install the transformers library that contains everything that we need for the NLP implementation\n",
        "%%capture\n",
        "!pip install transformers[sentencepiece] "
      ],
      "metadata": {
        "id": "UROJ39DiNO6G"
      },
      "execution_count": 1,
      "outputs": []
    },
    {
      "cell_type": "code",
      "source": [
        "# Import the pipeline framewoek from the transformers library and textwrap\n",
        "from transformers import pipeline\n",
        "import textwrap\n",
        "wrapper = textwrap.TextWrapper(width=80, break_long_words=False, break_on_hyphens=False)"
      ],
      "metadata": {
        "id": "_JEPMkQlNP5-"
      },
      "execution_count": 2,
      "outputs": []
    },
    {
      "cell_type": "markdown",
      "source": [
        "## Example 1"
      ],
      "metadata": {
        "id": "PEKxBQHlRjKJ"
      }
    },
    {
      "cell_type": "code",
      "source": [
        "sentence = 'It is the national <mask> of Italy'\n",
        "mask = pipeline('fill-mask', model='distilroberta-base')\n",
        "masks = mask(sentence)\n",
        "for m in masks:\n",
        "  print(m['sequence'])"
      ],
      "metadata": {
        "colab": {
          "base_uri": "https://localhost:8080/"
        },
        "id": "cLrtGs-SN5kE",
        "outputId": "d3e94ba1-a96b-414d-dc5f-b7b85434b46c"
      },
      "execution_count": 6,
      "outputs": [
        {
          "output_type": "stream",
          "name": "stdout",
          "text": [
            "It is the national anthem of Italy\n",
            "It is the national motto of Italy\n",
            "It is the national treasure of Italy\n",
            "It is the national capital of Italy\n",
            "It is the national emblem of Italy\n"
          ]
        }
      ]
    },
    {
      "cell_type": "markdown",
      "source": [
        "## Example 2"
      ],
      "metadata": {
        "id": "OOL81cSiRsAV"
      }
    },
    {
      "cell_type": "code",
      "source": [
        "sentence = 'American Airlines is the national <mask> of USA'\n",
        "mask = pipeline('fill-mask', model='distilroberta-base')\n",
        "masks = mask(sentence)\n",
        "for m in masks:\n",
        "  print(m['sequence'])"
      ],
      "metadata": {
        "colab": {
          "base_uri": "https://localhost:8080/"
        },
        "id": "c5L0ADMUOBS2",
        "outputId": "e918c7a3-5771-4222-b47e-e7622299263c"
      },
      "execution_count": 4,
      "outputs": [
        {
          "output_type": "stream",
          "name": "stdout",
          "text": [
            "American Airlines is the national carrier of USA\n",
            "American Airlines is the national airline of USA\n",
            "American Airlines is the national subsidiary of USA\n",
            "American Airlines is the national sponsor of USA\n",
            "American Airlines is the national company of USA\n"
          ]
        }
      ]
    },
    {
      "cell_type": "markdown",
      "source": [
        "## Example 3"
      ],
      "metadata": {
        "id": "07MZSrKbR4lo"
      }
    },
    {
      "cell_type": "code",
      "source": [
        "sentence = 'In this notebook I am implementing transformers in order to <mask> the semantics of the sentence and fill in the blank words which are highlighted as \"mask\".'\n",
        "mask = pipeline('fill-mask', model='distilroberta-base')\n",
        "masks = mask(sentence)\n",
        "for m in masks:\n",
        "  print(m['sequence'])"
      ],
      "metadata": {
        "colab": {
          "base_uri": "https://localhost:8080/"
        },
        "id": "A6hgWf0kONyJ",
        "outputId": "2c61b8e6-f322-473e-f6fd-767ace00c66d"
      },
      "execution_count": 5,
      "outputs": [
        {
          "output_type": "stream",
          "name": "stdout",
          "text": [
            "In this notebook I am implementing transformers in order to change the semantics of the sentence and fill in the blank words which are highlighted as \"mask\".\n",
            "In this notebook I am implementing transformers in order to simplify the semantics of the sentence and fill in the blank words which are highlighted as \"mask\".\n",
            "In this notebook I am implementing transformers in order to alter the semantics of the sentence and fill in the blank words which are highlighted as \"mask\".\n",
            "In this notebook I am implementing transformers in order to modify the semantics of the sentence and fill in the blank words which are highlighted as \"mask\".\n",
            "In this notebook I am implementing transformers in order to clarify the semantics of the sentence and fill in the blank words which are highlighted as \"mask\".\n"
          ]
        }
      ]
    },
    {
      "cell_type": "code",
      "source": [],
      "metadata": {
        "id": "aBqjpFrcSYw6"
      },
      "execution_count": 5,
      "outputs": []
    }
  ]
}