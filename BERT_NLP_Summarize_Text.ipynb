{
  "nbformat": 4,
  "nbformat_minor": 0,
  "metadata": {
    "colab": {
      "provenance": []
    },
    "kernelspec": {
      "name": "python3",
      "display_name": "Python 3"
    },
    "language_info": {
      "name": "python"
    }
  },
  "cells": [
    {
      "cell_type": "markdown",
      "source": [
        "# BERT NLP Filling in banks in a sentence\n",
        "## In this notebook I am implementing transformers in order to summarize a long text into a short summary."
      ],
      "metadata": {
        "id": "g5DD8d2pT3hI"
      }
    },
    {
      "cell_type": "code",
      "source": [
        "# Install the transformers library that contains everything that we need for the NLP implementation\n",
        "%%capture\n",
        "!pip install transformers[sentencepiece] "
      ],
      "metadata": {
        "id": "iaE2H91dT6Zr"
      },
      "execution_count": 5,
      "outputs": []
    },
    {
      "cell_type": "code",
      "source": [
        "# Import the pipeline framewoek from the transformers library and textwrap\n",
        "from transformers import pipeline\n",
        "import textwrap\n",
        "wrapper = textwrap.TextWrapper(width=80, break_long_words=False, break_on_hyphens=False)"
      ],
      "metadata": {
        "id": "-9KIbYk_UEg8"
      },
      "execution_count": 6,
      "outputs": []
    },
    {
      "cell_type": "markdown",
      "source": [
        "## Example 1"
      ],
      "metadata": {
        "id": "4uKhnO57UR-r"
      }
    },
    {
      "cell_type": "code",
      "source": [
        "review = '''\n",
        "Extremely unusual time to fly as we needed an exemption to fly out of Australia from the government. We obtained one as working in Tokyo for the year as teachers.\n",
        "The check in procedure does take a lot longer as more paperwork and phone calls are needed to check if you are allowed to travel. The staff were excellent in explaining the procedure as they are working with very few numbers.\n",
        "The flight had 40 people only, so lots of room and yes we had 3 seats each. The service of meals and beverages was done very quickly and efficiently.\n",
        "Changi airport was like a ghost town with most shops closed and all passengers are walked/transported to a transit zone until your next flight is ready. You are then walked in single file or transported to your next flight, so very strange as at times their seemed be more workers in PPE gear than passengers.\n",
        "The steps we went through at Narita were extensive, downloading apps, fill in paperwork and giving a saliva sample to test for covid 19. \n",
        "It took about 2 hours to get through the steps and we only sat down for maybe 10 minutes at the last stop to get back your covid results. \n",
        "The people involved were fantastic and we were lucky that we were numbers two and three in the initial first line up, but still over 2 hours it took so be aware. We knew we were quick as the people picking us up told us we were first out.'''\n",
        "\n",
        "print('\\nOriginal text:\\n')\n",
        "print(wrapper.fill(review))\n",
        "summarize = pipeline('summarization', model='sshleifer/distilbart-cnn-12-6')\n",
        "summarized_text = summarize(review)[0]['summary_text']\n",
        "print('\\nSummarized text:')\n",
        "print(wrapper.fill(summarized_text))"
      ],
      "metadata": {
        "colab": {
          "base_uri": "https://localhost:8080/"
        },
        "id": "gYfgZrKvUG7Q",
        "outputId": "de803862-407e-4697-c3a2-4209963df83e"
      },
      "execution_count": 7,
      "outputs": [
        {
          "output_type": "stream",
          "name": "stdout",
          "text": [
            "\n",
            "Original text:\n",
            "\n",
            " Extremely unusual time to fly as we needed an exemption to fly out of Australia\n",
            "from the government. We obtained one as working in Tokyo for the year as\n",
            "teachers. The check in procedure does take a lot longer as more paperwork and\n",
            "phone calls are needed to check if you are allowed to travel. The staff were\n",
            "excellent in explaining the procedure as they are working with very few numbers.\n",
            "The flight had 40 people only, so lots of room and yes we had 3 seats each. The\n",
            "service of meals and beverages was done very quickly and efficiently. Changi\n",
            "airport was like a ghost town with most shops closed and all passengers are\n",
            "walked/transported to a transit zone until your next flight is ready. You are\n",
            "then walked in single file or transported to your next flight, so very strange\n",
            "as at times their seemed be more workers in PPE gear than passengers. The steps\n",
            "we went through at Narita were extensive, downloading apps, fill in paperwork\n",
            "and giving a saliva sample to test for covid 19.  It took about 2 hours to get\n",
            "through the steps and we only sat down for maybe 10 minutes at the last stop to\n",
            "get back your covid results.  The people involved were fantastic and we were\n",
            "lucky that we were numbers two and three in the initial first line up, but still\n",
            "over 2 hours it took so be aware. We knew we were quick as the people picking us\n",
            "up told us we were first out.\n",
            "\n",
            "Summarized text:\n",
            " The flight had 40 people only, so lots of room and yes we had 3 seats each .\n",
            "The check in procedure does take a lot longer as more paperwork and phone calls\n",
            "are needed to check if you are allowed to travel . The staff were excellent in\n",
            "explaining the procedure as they are working with very few numbers .\n"
          ]
        }
      ]
    },
    {
      "cell_type": "markdown",
      "source": [
        "## Example 2"
      ],
      "metadata": {
        "id": "NiN6PSCCUXs4"
      }
    },
    {
      "cell_type": "code",
      "source": [
        "review_cars = '''Cars have been a symbol of freedom and mobility for over a century. They have transformed the way we live, work, and play, and have become an integral part of our modern society. From the earliest Model T to the latest Tesla, cars have evolved into highly advanced machines that are faster, safer, and more efficient than ever before.\n",
        "One of the most exciting aspects of cars is the sheer variety of models available. From sleek sports cars to rugged pickup trucks, there is a car for every taste and purpose. Some people prefer cars with powerful engines and lightning-fast acceleration, while others prioritize fuel efficiency and practicality. Regardless of your preferences, there is no shortage of options to choose from.\n",
        "Another fascinating aspect of cars is the technology that goes into making them. Modern cars are packed with advanced features such as GPS navigation, backup cameras, and collision avoidance systems. Some cars even have the ability to drive themselves, thanks to the latest autonomous driving technology. This technology promises to revolutionize the way we think about transportation, and could eventually lead to a world where car accidents are a thing of the past.\n",
        "Of course, cars are not without their drawbacks. They can be expensive to purchase, maintain, and repair, and they also contribute to air pollution and climate change. As a result, there is growing interest in alternative forms of transportation such as bicycles, public transportation, and electric cars. While these options may not be as convenient or practical as cars in some cases, they offer a more sustainable and environmentally friendly way to get around.\n",
        "Despite their drawbacks, it's hard to deny the appeal of cars. There's just something about the feeling of hitting the open road and letting the wind blow through your hair that can't be matched by any other form of transportation. Whether you're cruising down the highway in a classic convertible or navigating the city streets in a sleek hybrid, there's no denying the thrill and excitement of driving a car.\n",
        "In conclusion, cars are an essential part of modern life, offering unparalleled freedom and mobility. While they may have their drawbacks, they also offer an incredible range of features and capabilities, from high-tech safety systems to powerful engines and cutting-edge autonomous driving technology. Whether you're a car enthusiast or simply someone who needs to get from point A to point B, there's no denying the importance of cars in our world today.'''\n",
        "\n",
        "print('\\nOriginal text on the topic for cars:\\n')\n",
        "print(wrapper.fill(review_cars))\n",
        "summarize_cars = pipeline('summarization', model='sshleifer/distilbart-cnn-12-6')\n",
        "summarized_cars_text = summarize_cars(review_cars)[0]['summary_text']\n",
        "print('\\nSummarized text:')\n",
        "print(wrapper.fill(summarized_cars_text))"
      ],
      "metadata": {
        "colab": {
          "base_uri": "https://localhost:8080/"
        },
        "id": "wcQJYOzRUUH0",
        "outputId": "f63e480e-eb27-436a-e816-aef8f9d3b01b"
      },
      "execution_count": 8,
      "outputs": [
        {
          "output_type": "stream",
          "name": "stdout",
          "text": [
            "\n",
            "Original text on the topic for cars:\n",
            "\n",
            "Cars have been a symbol of freedom and mobility for over a century. They have\n",
            "transformed the way we live, work, and play, and have become an integral part of\n",
            "our modern society. From the earliest Model T to the latest Tesla, cars have\n",
            "evolved into highly advanced machines that are faster, safer, and more efficient\n",
            "than ever before. One of the most exciting aspects of cars is the sheer variety\n",
            "of models available. From sleek sports cars to rugged pickup trucks, there is a\n",
            "car for every taste and purpose. Some people prefer cars with powerful engines\n",
            "and lightning-fast acceleration, while others prioritize fuel efficiency and\n",
            "practicality. Regardless of your preferences, there is no shortage of options to\n",
            "choose from. Another fascinating aspect of cars is the technology that goes into\n",
            "making them. Modern cars are packed with advanced features such as GPS\n",
            "navigation, backup cameras, and collision avoidance systems. Some cars even have\n",
            "the ability to drive themselves, thanks to the latest autonomous driving\n",
            "technology. This technology promises to revolutionize the way we think about\n",
            "transportation, and could eventually lead to a world where car accidents are a\n",
            "thing of the past. Of course, cars are not without their drawbacks. They can be\n",
            "expensive to purchase, maintain, and repair, and they also contribute to air\n",
            "pollution and climate change. As a result, there is growing interest in\n",
            "alternative forms of transportation such as bicycles, public transportation, and\n",
            "electric cars. While these options may not be as convenient or practical as cars\n",
            "in some cases, they offer a more sustainable and environmentally friendly way to\n",
            "get around. Despite their drawbacks, it's hard to deny the appeal of cars.\n",
            "There's just something about the feeling of hitting the open road and letting\n",
            "the wind blow through your hair that can't be matched by any other form of\n",
            "transportation. Whether you're cruising down the highway in a classic\n",
            "convertible or navigating the city streets in a sleek hybrid, there's no denying\n",
            "the thrill and excitement of driving a car. In conclusion, cars are an essential\n",
            "part of modern life, offering unparalleled freedom and mobility. While they may\n",
            "have their drawbacks, they also offer an incredible range of features and\n",
            "capabilities, from high-tech safety systems to powerful engines and cutting-edge\n",
            "autonomous driving technology. Whether you're a car enthusiast or simply someone\n",
            "who needs to get from point A to point B, there's no denying the importance of\n",
            "cars in our world today.\n",
            "\n",
            "Summarized text:\n",
            " Cars have been a symbol of freedom and mobility for over a century . From the\n",
            "earliest Model T to the latest Tesla, cars have evolved into highly advanced\n",
            "machines that are faster, safer, and more efficient than ever before . Modern\n",
            "cars are packed with advanced features such as GPS navigation, backup cameras,\n",
            "and collision avoidance systems .\n"
          ]
        }
      ]
    },
    {
      "cell_type": "code",
      "source": [],
      "metadata": {
        "id": "ykdP9IwlVc6n"
      },
      "execution_count": null,
      "outputs": []
    }
  ]
}