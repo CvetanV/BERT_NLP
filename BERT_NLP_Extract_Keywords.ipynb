{
  "nbformat": 4,
  "nbformat_minor": 0,
  "metadata": {
    "colab": {
      "provenance": [],
      "authorship_tag": "ABX9TyNb5td/Y/eKkYj30lIaT+T1",
      "include_colab_link": true
    },
    "kernelspec": {
      "name": "python3",
      "display_name": "Python 3"
    },
    "language_info": {
      "name": "python"
    }
  },
  "cells": [
    {
      "cell_type": "markdown",
      "metadata": {
        "id": "view-in-github",
        "colab_type": "text"
      },
      "source": [
        "<a href=\"https://colab.research.google.com/github/CvetanV/BERT_NLP/blob/main/BERT_NLP_Extract_Keywords.ipynb\" target=\"_parent\"><img src=\"https://colab.research.google.com/assets/colab-badge.svg\" alt=\"Open In Colab\"/></a>"
      ]
    },
    {
      "cell_type": "markdown",
      "source": [
        "# BERT NLP Extracting Keywords from a text\n",
        "## In this notebook I am implementing transformers in order to extract keywords from a text."
      ],
      "metadata": {
        "id": "1dr4pNxbYNO0"
      }
    },
    {
      "cell_type": "code",
      "source": [
        "# Install the transformers library that contains everything that we need for the NLP implementation\n",
        "%%capture\n",
        "!pip install transformers[sentencepiece] "
      ],
      "metadata": {
        "id": "wpUmOWZ0YN5V"
      },
      "execution_count": 9,
      "outputs": []
    },
    {
      "cell_type": "code",
      "source": [
        "# Import the pipeline framewoek from the transformers library and textwrap\n",
        "from transformers import pipeline\n",
        "import textwrap\n",
        "wrapper = textwrap.TextWrapper(width=80, break_long_words=False, break_on_hyphens=False)"
      ],
      "metadata": {
        "id": "lFo7sTP9YmUn"
      },
      "execution_count": 10,
      "outputs": []
    },
    {
      "cell_type": "markdown",
      "source": [
        "## Example 1"
      ],
      "metadata": {
        "id": "1yBCs_POY7PF"
      }
    },
    {
      "cell_type": "code",
      "source": [
        "# This code uses the Hugging Face Transformers library to perform named entity recognition (NER) on a given sentence \n",
        "# using the pre-trained model \"dbmdz/bert-large-cased-finetuned-conll03-english\". \n",
        "# After importing the required packages and defining the input sentence, the `pipeline` function is called to \n",
        "# initialize a text classification pipeline with the pre-trained model specified. The `token-classification` task \n",
        "# is used here as it involves identifying and labeling individual tokens in the input text. The `grouped_entities` \n",
        "# parameter is set to `True` to group consecutive tokens with the same entity label.\n",
        "# The `ners` variable stores the results of the NER task performed on the input sentence. \n",
        "# Finally, the script prints the input sentence using the `textwrap` module to wrap lines at a maximum width of 80 characters.\n",
        "# It then loops through each entity identified by the NER model and prints the word and its corresponding entity group.\n",
        "\n",
        "sentence = \"Singapore Airlines was the first airline to fly the A380. Chew Choon Seng was Singapore Airline's CEO at the time. Singapore Airlines flies to New York daily.\"\n",
        "ner = pipeline('token-classification', \n",
        "               model='dbmdz/bert-large-cased-finetuned-conll03-english', \n",
        "               grouped_entities=True)\n",
        "ners = ner(sentence)\n",
        "print('\\nSentence:')\n",
        "print(wrapper.fill(sentence))\n",
        "print('\\n')\n",
        "for n in ners:\n",
        "  print(f\"{n['word']} -> {n['entity_group']}\")"
      ],
      "metadata": {
        "id": "N4HA72wNYnss",
        "outputId": "18f1702f-7824-4571-8272-eaf5e5704229",
        "colab": {
          "base_uri": "https://localhost:8080/"
        }
      },
      "execution_count": 11,
      "outputs": [
        {
          "output_type": "stream",
          "name": "stdout",
          "text": [
            "\n",
            "Sentence:\n",
            "Singapore Airlines was the first airline to fly the A380. Chew Choon Seng was\n",
            "Singapore Airline's CEO at the time. Singapore Airlines flies to New York daily.\n",
            "\n",
            "\n",
            "Singapore Airlines -> ORG\n",
            "A380 -> MISC\n",
            "Chew Choon Seng -> PER\n",
            "Singapore Airline -> ORG\n",
            "Singapore Airlines -> ORG\n",
            "New York -> LOC\n"
          ]
        }
      ]
    },
    {
      "cell_type": "markdown",
      "source": [
        "## Example 2"
      ],
      "metadata": {
        "id": "D2dsknB2ZnXX"
      }
    },
    {
      "cell_type": "code",
      "source": [
        "sentence = \"The General Motors Company[2] (GM) is an American multinational automotive manufacturing company headquartered in Detroit, Michigan, United States.[3] By sales, it was the largest automaker in the United States in 2022, and was the largest in the world for 77 years before losing the top spot to Toyota in 2008.[4][5] General Motors operates manufacturing plants in eight countries.[6] Its four core automobile brands are Chevrolet, Buick, GMC, and Cadillac. It also holds interests in Chinese brands Baojun and Wuling via SAIC-GM-Wuling Automobile.[2] GM also owns the BrightDrop delivery vehicle manufacturer,[7] a namesake defense vehicles division which produces military vehicles for the United States government and military,[8] the vehicle safety, security, and information services provider OnStar,[9] the auto parts company ACDelco, a namesake financial lending service, and majority ownership in the self-driving cars enterprise Cruise LLC. In January 2021, GM announced plans to end production and sales of vehicles using internal combustion engines, including hybrid vehicles and plug-in hybrids, by 2035, as part of its plan to achieve carbon neutrality by 2040.[10] GM offers more flexible-fuel vehicles, which can operate on either E85 ethanol fuel or gasoline, or any blend of both, than any other automaker.[11] The company traces itself to a holding company for Buick established on September 16, 1908, by William C. Durant, the largest seller of horse-drawn vehicles at the time.[12] The current entity was established in 2009 after the General Motors Chapter 11 reorganization.[13] As of January 2023, GM is ranked 25th on the Fortune 500 rankings of the largest United States corporations by total revenue.[14]\"\n",
        "ner = pipeline('token-classification', \n",
        "               model='dbmdz/bert-large-cased-finetuned-conll03-english', \n",
        "               grouped_entities=True)\n",
        "ners = ner(sentence)\n",
        "print('\\nSentence:')\n",
        "print(wrapper.fill(sentence))\n",
        "print('\\n')\n",
        "for n in ners:\n",
        "  print(f\"{n['word']} -> {n['entity_group']}\")"
      ],
      "metadata": {
        "id": "6SLe3CIUZori",
        "outputId": "12029770-53e0-442a-e830-8599cd485d64",
        "colab": {
          "base_uri": "https://localhost:8080/"
        }
      },
      "execution_count": 12,
      "outputs": [
        {
          "output_type": "stream",
          "name": "stdout",
          "text": [
            "\n",
            "Sentence:\n",
            "The General Motors Company[2] (GM) is an American multinational automotive\n",
            "manufacturing company headquartered in Detroit, Michigan, United States.[3] By\n",
            "sales, it was the largest automaker in the United States in 2022, and was the\n",
            "largest in the world for 77 years before losing the top spot to Toyota in\n",
            "2008.[4][5] General Motors operates manufacturing plants in eight countries.[6]\n",
            "Its four core automobile brands are Chevrolet, Buick, GMC, and Cadillac. It also\n",
            "holds interests in Chinese brands Baojun and Wuling via SAIC-GM-Wuling\n",
            "Automobile.[2] GM also owns the BrightDrop delivery vehicle manufacturer,[7] a\n",
            "namesake defense vehicles division which produces military vehicles for the\n",
            "United States government and military,[8] the vehicle safety, security, and\n",
            "information services provider OnStar,[9] the auto parts company ACDelco, a\n",
            "namesake financial lending service, and majority ownership in the self-driving\n",
            "cars enterprise Cruise LLC. In January 2021, GM announced plans to end\n",
            "production and sales of vehicles using internal combustion engines, including\n",
            "hybrid vehicles and plug-in hybrids, by 2035, as part of its plan to achieve\n",
            "carbon neutrality by 2040.[10] GM offers more flexible-fuel vehicles, which can\n",
            "operate on either E85 ethanol fuel or gasoline, or any blend of both, than any\n",
            "other automaker.[11] The company traces itself to a holding company for Buick\n",
            "established on September 16, 1908, by William C. Durant, the largest seller of\n",
            "horse-drawn vehicles at the time.[12] The current entity was established in 2009\n",
            "after the General Motors Chapter 11 reorganization.[13] As of January 2023, GM\n",
            "is ranked 25th on the Fortune 500 rankings of the largest United States\n",
            "corporations by total revenue.[14]\n",
            "\n",
            "\n",
            "General Motors Company -> ORG\n",
            "GM -> ORG\n",
            "American -> MISC\n",
            "Detroit -> LOC\n",
            "Michigan -> LOC\n",
            "United States -> LOC\n",
            "United States -> LOC\n",
            "Toyota -> ORG\n",
            "General Motors -> ORG\n",
            "Chevrolet -> ORG\n",
            "Buick -> ORG\n",
            "GMC -> ORG\n",
            "Cadillac -> ORG\n",
            "Chinese -> MISC\n",
            "Baojun -> ORG\n",
            "Wuling -> ORG\n",
            "SAIC -> ORG\n",
            "GM -> ORG\n",
            "Wuling Automobile -> ORG\n",
            "GM -> ORG\n",
            "BrightDrop -> ORG\n",
            "United States -> LOC\n",
            "OnStar -> ORG\n",
            "ACDelco -> ORG\n",
            "Cruise LLC -> ORG\n",
            "GM -> ORG\n",
            "GM -> ORG\n",
            "Buick -> ORG\n",
            "William -> PER\n",
            "C -> ORG\n",
            "Du -> PER\n",
            "##rant -> ORG\n",
            "General Motors -> ORG\n",
            "Chapter 11 -> MISC\n",
            "GM -> ORG\n",
            "Fortune 500 -> MISC\n",
            "United States -> LOC\n"
          ]
        }
      ]
    },
    {
      "cell_type": "code",
      "source": [],
      "metadata": {
        "id": "WLDpuUYqdslU"
      },
      "execution_count": 12,
      "outputs": []
    }
  ]
}