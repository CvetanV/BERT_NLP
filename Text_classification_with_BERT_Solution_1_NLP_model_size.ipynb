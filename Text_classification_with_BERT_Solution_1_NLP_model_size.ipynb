{
  "cells": [
    {
      "cell_type": "markdown",
      "metadata": {
        "id": "view-in-github",
        "colab_type": "text"
      },
      "source": [
        "<a href=\"https://colab.research.google.com/github/CvetanV/BERT_NLP/blob/main/Text_classification_with_BERT_Solution_1_NLP_model_size.ipynb\" target=\"_parent\"><img src=\"https://colab.research.google.com/assets/colab-badge.svg\" alt=\"Open In Colab\"/></a>"
      ]
    },
    {
      "cell_type": "markdown",
      "metadata": {
        "id": "z7ZZ2c26XgJk"
      },
      "source": [
        "[![Open In Colab](https://colab.research.google.com/assets/colab-badge.svg)](https://colab.research.google.com/drive/12AaI-HxGit6dibVkAbGri0syTwj0aV4Y?usp=sharing)"
      ]
    },
    {
      "cell_type": "markdown",
      "metadata": {
        "id": "lXkCf9hKXkIl"
      },
      "source": [
        "# Solution: NLP model size\n",
        "1. How many parameters does the BERT base cased model have (bert-base-cased)?  Use the *get_model_size function* below to help you.\n",
        "2. If you know the number of parameters for a model, how might you be able to  determine how much memory is required when running a model inference? (Each parameter is represented as a single precision floating point number)\n",
        "3. If you wanted to run a GPT-3 inference. How much RAM would your infrastructure require.\n",
        "\n",
        "This should take you between 5-10 minutes.\n"
      ]
    },
    {
      "cell_type": "code",
      "execution_count": 6,
      "metadata": {
        "colab": {
          "base_uri": "https://localhost:8080/"
        },
        "id": "sIea7CKmuTYB",
        "outputId": "439477b4-bba5-4070-ac9d-f2283507333c"
      },
      "outputs": [
        {
          "output_type": "stream",
          "name": "stdout",
          "text": [
            "Looking in indexes: https://pypi.org/simple, https://us-python.pkg.dev/colab-wheels/public/simple/\n",
            "Requirement already satisfied: transformers[sentencepiece] in /usr/local/lib/python3.10/dist-packages (4.29.1)\n",
            "Requirement already satisfied: filelock in /usr/local/lib/python3.10/dist-packages (from transformers[sentencepiece]) (3.12.0)\n",
            "Requirement already satisfied: huggingface-hub<1.0,>=0.14.1 in /usr/local/lib/python3.10/dist-packages (from transformers[sentencepiece]) (0.14.1)\n",
            "Requirement already satisfied: numpy>=1.17 in /usr/local/lib/python3.10/dist-packages (from transformers[sentencepiece]) (1.22.4)\n",
            "Requirement already satisfied: packaging>=20.0 in /usr/local/lib/python3.10/dist-packages (from transformers[sentencepiece]) (23.1)\n",
            "Requirement already satisfied: pyyaml>=5.1 in /usr/local/lib/python3.10/dist-packages (from transformers[sentencepiece]) (6.0)\n",
            "Requirement already satisfied: regex!=2019.12.17 in /usr/local/lib/python3.10/dist-packages (from transformers[sentencepiece]) (2022.10.31)\n",
            "Requirement already satisfied: requests in /usr/local/lib/python3.10/dist-packages (from transformers[sentencepiece]) (2.27.1)\n",
            "Requirement already satisfied: tokenizers!=0.11.3,<0.14,>=0.11.1 in /usr/local/lib/python3.10/dist-packages (from transformers[sentencepiece]) (0.13.3)\n",
            "Requirement already satisfied: tqdm>=4.27 in /usr/local/lib/python3.10/dist-packages (from transformers[sentencepiece]) (4.65.0)\n",
            "Requirement already satisfied: sentencepiece!=0.1.92,>=0.1.91 in /usr/local/lib/python3.10/dist-packages (from transformers[sentencepiece]) (0.1.99)\n",
            "Requirement already satisfied: protobuf<=3.20.2 in /usr/local/lib/python3.10/dist-packages (from transformers[sentencepiece]) (3.20.2)\n",
            "Requirement already satisfied: fsspec in /usr/local/lib/python3.10/dist-packages (from huggingface-hub<1.0,>=0.14.1->transformers[sentencepiece]) (2023.4.0)\n",
            "Requirement already satisfied: typing-extensions>=3.7.4.3 in /usr/local/lib/python3.10/dist-packages (from huggingface-hub<1.0,>=0.14.1->transformers[sentencepiece]) (4.5.0)\n",
            "Requirement already satisfied: urllib3<1.27,>=1.21.1 in /usr/local/lib/python3.10/dist-packages (from requests->transformers[sentencepiece]) (1.26.15)\n",
            "Requirement already satisfied: certifi>=2017.4.17 in /usr/local/lib/python3.10/dist-packages (from requests->transformers[sentencepiece]) (2022.12.7)\n",
            "Requirement already satisfied: charset-normalizer~=2.0.0 in /usr/local/lib/python3.10/dist-packages (from requests->transformers[sentencepiece]) (2.0.12)\n",
            "Requirement already satisfied: idna<4,>=2.5 in /usr/local/lib/python3.10/dist-packages (from requests->transformers[sentencepiece]) (3.4)\n"
          ]
        }
      ],
      "source": [
        "!pip install transformers[sentencepiece]"
      ]
    },
    {
      "cell_type": "code",
      "execution_count": 7,
      "metadata": {
        "colab": {
          "base_uri": "https://localhost:8080/"
        },
        "id": "AaHc9qEnyUT-",
        "outputId": "d332cfc0-1ca9-464b-8f39-eb12bef84756"
      },
      "outputs": [
        {
          "output_type": "stream",
          "name": "stderr",
          "text": [
            "Some weights of the model checkpoint at bert-base-cased were not used when initializing BertModel: ['cls.predictions.transform.LayerNorm.bias', 'cls.predictions.transform.dense.weight', 'cls.seq_relationship.bias', 'cls.predictions.transform.LayerNorm.weight', 'cls.seq_relationship.weight', 'cls.predictions.decoder.weight', 'cls.predictions.transform.dense.bias', 'cls.predictions.bias']\n",
            "- This IS expected if you are initializing BertModel from the checkpoint of a model trained on another task or with another architecture (e.g. initializing a BertForSequenceClassification model from a BertForPreTraining model).\n",
            "- This IS NOT expected if you are initializing BertModel from the checkpoint of a model that you expect to be exactly identical (initializing a BertForSequenceClassification model from a BertForSequenceClassification model).\n"
          ]
        },
        {
          "output_type": "stream",
          "name": "stdout",
          "text": [
            "The number of parameters for bert-base-cased is : 108310272\n"
          ]
        }
      ],
      "source": [
        "from transformers import AutoModel\n",
        "import torch\n",
        "\n",
        "# This code defines a function called get_model_size that calculates the number of parameters of a pre-trained NLP model.\n",
        "# It uses the AutoModel class from the Transformers library to create an instance of the model specified by the \n",
        "# checkpoint argument. Then, it iterates over all the parameters of the model using a list comprehension and calculates \n",
        "# the number of elements in each tensor parameter using the torch.numel() function. \n",
        "# Finally, it returns the sum of all the element counts, which gives the total number of parameters in the model.\n",
        "# The function is then called with the checkpoint argument set to 'bert-base-cased', and the result is printed to the \n",
        "# console as a string.\n",
        "\n",
        "def get_model_size(checkpoint='bert-base-cased'):\n",
        "  '''\n",
        "  Usage: \n",
        "      checkpoint - this is NLP model with its configuration and its associated weights\n",
        "      returns the size of the NLP model you want to determine\n",
        "  '''\n",
        "  \n",
        "  model = AutoModel.from_pretrained(checkpoint)\n",
        "  return sum(torch.numel(param) for param in model.parameters())\n",
        "\n",
        "checkpoint='bert-base-cased'\n",
        "print(f\"The number of parameters for {checkpoint} is : {get_model_size(checkpoint)}\")"
      ]
    },
    {
      "cell_type": "code",
      "execution_count": 8,
      "metadata": {
        "id": "-KGFa7yXw0ic",
        "outputId": "23dd5360-5e63-407b-94d6-12bc5deb02e7",
        "colab": {
          "base_uri": "https://localhost:8080/"
        }
      },
      "outputs": [
        {
          "output_type": "stream",
          "name": "stdout",
          "text": [
            "The above value is aproximately one hundred and eight milion parameters.\n"
          ]
        }
      ],
      "source": [
        "print(\"The above value is aproximately one hundred and eight milion parameters.\")"
      ]
    },
    {
      "cell_type": "code",
      "execution_count": 9,
      "metadata": {
        "colab": {
          "base_uri": "https://localhost:8080/"
        },
        "id": "pwNiLxqTtGvA",
        "outputId": "bfcfe5b2-07bc-4b97-ec3c-bb643cc5d522"
      },
      "outputs": [
        {
          "output_type": "stream",
          "name": "stdout",
          "text": [
            "Since each of these parameters is represented as single precision floating point numbers.\n",
            "This means they require four bites.\n",
            "\n",
            "To get the memory needed we calculate 4 * 108 and we get: 432 megabytes of RAM.\n"
          ]
        }
      ],
      "source": [
        "print(\"Since each of these parameters is represented as single precision floating point numbers.\\nThis means they require four bites.\\n\")\n",
        "print(\"To get the memory needed we calculate 4 * 108 and we get:\", 4 * 108, \"megabytes of RAM.\")"
      ]
    },
    {
      "cell_type": "code",
      "execution_count": 10,
      "metadata": {
        "colab": {
          "base_uri": "https://localhost:8080/"
        },
        "id": "HOBRAAjjtNih",
        "outputId": "907194fa-2acd-402e-fed2-b3efc41ace70"
      },
      "outputs": [
        {
          "output_type": "stream",
          "name": "stdout",
          "text": [
            "If you wanted to run a GPT-3 inference. You will need 175000 * 4 = 700000 Megabytes RAM or 700 Gigabytes of RAM\n",
            "\n",
            "GPT-3 has 175 Bilion parameter model and our has about 108 Milion parameters.\n"
          ]
        }
      ],
      "source": [
        "print(\"If you wanted to run a GPT-3 inference. You will need 175000 * 4 =\", 175000 * 4, \"Megabytes RAM or\", 175000*4//1000, \"Gigabytes of RAM\\n\")\n",
        "print(\"GPT-3 has 175 Bilion parameter model and our has about 108 Milion parameters.\")"
      ]
    }
  ],
  "metadata": {
    "colab": {
      "name": "Text_classification_with_BERT_Solution_1_NLP_model_size.ipynb",
      "provenance": [],
      "include_colab_link": true
    },
    "kernelspec": {
      "display_name": "Python 3 (ipykernel)",
      "language": "python",
      "name": "python3"
    },
    "language_info": {
      "codemirror_mode": {
        "name": "ipython",
        "version": 3
      },
      "file_extension": ".py",
      "mimetype": "text/x-python",
      "name": "python",
      "nbconvert_exporter": "python",
      "pygments_lexer": "ipython3",
      "version": "3.9.13"
    }
  },
  "nbformat": 4,
  "nbformat_minor": 0
}