{
  "nbformat": 4,
  "nbformat_minor": 0,
  "metadata": {
    "colab": {
      "provenance": [],
      "authorship_tag": "ABX9TyN0NW34utNh7Hy5TQYiu1Im",
      "include_colab_link": true
    },
    "kernelspec": {
      "name": "python3",
      "display_name": "Python 3"
    },
    "language_info": {
      "name": "python"
    }
  },
  "cells": [
    {
      "cell_type": "markdown",
      "metadata": {
        "id": "view-in-github",
        "colab_type": "text"
      },
      "source": [
        "<a href=\"https://colab.research.google.com/github/CvetanV/BERT_NLP/blob/main/BERT_NLP_Sentiment_Analysis.ipynb\" target=\"_parent\"><img src=\"https://colab.research.google.com/assets/colab-badge.svg\" alt=\"Open In Colab\"/></a>"
      ]
    },
    {
      "cell_type": "markdown",
      "source": [
        "## BERT NLP Sentiment Analysis\n",
        "### In this notebook I am implementing transformers in order to perform sentiment analysis on a text and decide if it is Positive or Negative sentiment."
      ],
      "metadata": {
        "id": "oXa5TRE6jpRm"
      }
    },
    {
      "cell_type": "code",
      "execution_count": 1,
      "metadata": {
        "id": "4xMjl_injbMP"
      },
      "outputs": [],
      "source": [
        "# Install the transformers library that contains everything that we need for the NLP implementation\n",
        "%%capture\n",
        "!pip install transformers[sentencepiece] "
      ]
    },
    {
      "cell_type": "code",
      "source": [
        "# Import the pipeline framework from the transformers library and textwrap\n",
        "from transformers import pipeline\n",
        "import textwrap\n",
        "wrapper = textwrap.TextWrapper(width=80, break_long_words=False, break_on_hyphens=False)"
      ],
      "metadata": {
        "id": "JM076Vg0kDrG"
      },
      "execution_count": 2,
      "outputs": []
    },
    {
      "cell_type": "markdown",
      "source": [
        "## Example 1: Positive sentiment sentence."
      ],
      "metadata": {
        "id": "EjBUzwoBkqFv"
      }
    },
    {
      "cell_type": "code",
      "source": [
        "# This code is using the Hugging Face Transformers library to classify the sentiment of a given sentence. \n",
        "# First, it imports the `pipeline` module from the Transformers library, which is a high-level module that \n",
        "# allows you to perform various natural language processing tasks with pre-trained models. \n",
        "# Then, it imports the `textwrap` module from the standard library to help with formatting the output. \n",
        "# It creates a `TextWrapper` object that specifies a maximum line width of 80 characters and turns off \n",
        "# breaking long words and hyphenated words. It then defines a `sentence` variable that contains a sample sentence.\n",
        "# Next, it initializes a text classification pipeline using the `pipeline` function from the Transformers library.\n",
        "# The pipeline is initialized with the `'text-classification'` task and the `distilbert-base-uncased-finetuned-sst-2-english` \n",
        "# pre-trained model. This model has been fine-tuned on the Stanford Sentiment Treebank dataset, which is a dataset of movie \n",
        "# reviews labeled with their sentiment (positive or negative).\n",
        "# The `classifier` object is then used to classify the sentiment of the `sentence`. \n",
        "# The resulting object `c` is a list of dictionaries, with each dictionary representing a possible label and its \n",
        "# corresponding score.\n",
        "# Finally, it prints the original `sentence` variable formatted with the `TextWrapper` object, and the predicted sentiment \n",
        "# label and its corresponding score.\n",
        "\n",
        "sentence = 'The flights were on time both in Sydney and the connecting flight in Singapore. The organisation to cope with the COVID 19 restrictions while in transit was well planned and directions easy to follow, the plane was comfortable with a reasonable selection of in flight entertainment. Crew were pleasant and helpful.'\n",
        "classifier = pipeline('text-classification', model='distilbert-base-uncased-finetuned-sst-2-english')\n",
        "c = classifier(sentence)\n",
        "print('\\nSentence:')\n",
        "print(wrapper.fill(sentence))\n",
        "print(f\"\\nThis sentence is classified with a {c[0]['label']} sentiment\")"
      ],
      "metadata": {
        "colab": {
          "base_uri": "https://localhost:8080/"
        },
        "id": "lLf7rqF8kFTB",
        "outputId": "87d067c9-6359-434a-c98c-4f924fa84b23"
      },
      "execution_count": 5,
      "outputs": [
        {
          "output_type": "stream",
          "name": "stdout",
          "text": [
            "\n",
            "Sentence:\n",
            "The flights were on time both in Sydney and the connecting flight in Singapore.\n",
            "The organisation to cope with the COVID 19 restrictions while in transit was\n",
            "well planned and directions easy to follow, the plane was comfortable with a\n",
            "reasonable selection of in flight entertainment. Crew were pleasant and helpful.\n",
            "\n",
            "This sentence is classified with a POSITIVE sentiment\n"
          ]
        }
      ]
    },
    {
      "cell_type": "markdown",
      "source": [
        "## Example 2: Negative sentiment sentence."
      ],
      "metadata": {
        "id": "PkbIJ_kSkvoF"
      }
    },
    {
      "cell_type": "code",
      "source": [
        "sentence = \"From the moment I stepped foot into that restaurant, I could sense the air of disappointment and frustration lingering around. The service was abysmal, with waitstaff seemingly disinterested in attending to the customers' needs. The food arrived lukewarm and tasted nothing short of bland and uninspired. The ambiance was far from inviting, as the dimly lit room and outdated decor added to the overall dreary atmosphere. To top it off, the exorbitant prices charged for such subpar quality left me feeling not only dissatisfied but also taken advantage of. It was an utterly disheartening experience, one that I wouldn't wish upon anyone seeking a pleasant dining outing.\"\n",
        "classifier = pipeline('text-classification', model='distilbert-base-uncased-finetuned-sst-2-english')\n",
        "c = classifier(sentence)\n",
        "print('\\nSentence:')\n",
        "print(wrapper.fill(sentence))\n",
        "print(f\"\\nThis sentence is classified with a {c[0]['label']} sentiment\")"
      ],
      "metadata": {
        "colab": {
          "base_uri": "https://localhost:8080/"
        },
        "id": "pv7FbxF_kZCn",
        "outputId": "a6fe6dc8-4aca-4677-8c8c-5559894185b9"
      },
      "execution_count": 7,
      "outputs": [
        {
          "output_type": "stream",
          "name": "stdout",
          "text": [
            "\n",
            "Sentence:\n",
            "From the moment I stepped foot into that restaurant, I could sense the air of\n",
            "disappointment and frustration lingering around. The service was abysmal, with\n",
            "waitstaff seemingly disinterested in attending to the customers' needs. The food\n",
            "arrived lukewarm and tasted nothing short of bland and uninspired. The ambiance\n",
            "was far from inviting, as the dimly lit room and outdated decor added to the\n",
            "overall dreary atmosphere. To top it off, the exorbitant prices charged for such\n",
            "subpar quality left me feeling not only dissatisfied but also taken advantage\n",
            "of. It was an utterly disheartening experience, one that I wouldn't wish upon\n",
            "anyone seeking a pleasant dining outing.\n",
            "\n",
            "This sentence is classified with a NEGATIVE sentiment\n"
          ]
        }
      ]
    },
    {
      "cell_type": "code",
      "source": [],
      "metadata": {
        "id": "vo5pwFn4klsq"
      },
      "execution_count": null,
      "outputs": []
    }
  ]
}