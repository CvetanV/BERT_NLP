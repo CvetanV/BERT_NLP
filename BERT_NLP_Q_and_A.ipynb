{
  "nbformat": 4,
  "nbformat_minor": 0,
  "metadata": {
    "colab": {
      "provenance": [],
      "authorship_tag": "ABX9TyNwg0aqElxJ4y2voKA2hmbK",
      "include_colab_link": true
    },
    "kernelspec": {
      "name": "python3",
      "display_name": "Python 3"
    },
    "language_info": {
      "name": "python"
    }
  },
  "cells": [
    {
      "cell_type": "markdown",
      "metadata": {
        "id": "view-in-github",
        "colab_type": "text"
      },
      "source": [
        "<a href=\"https://colab.research.google.com/github/CvetanV/BERT_NLP/blob/main/BERT_NLP_Q_and_A.ipynb\" target=\"_parent\"><img src=\"https://colab.research.google.com/assets/colab-badge.svg\" alt=\"Open In Colab\"/></a>"
      ]
    },
    {
      "cell_type": "code",
      "execution_count": 1,
      "metadata": {
        "id": "J0to_-LhldzW"
      },
      "outputs": [],
      "source": [
        "# Install transformers framework\n",
        "%%capture\n",
        "!pip install transformers[sentencepiece] "
      ]
    },
    {
      "cell_type": "code",
      "source": [
        "# Imports the `pipeline` function from the `transformers` library and the `TextWrapper` class from the `textwrap` module.\n",
        "# `pipeline` is a function that makes it easy to use pre-trained transformer models for a variety of natural language \n",
        "# processing (NLP) tasks, such as text classification, question answering, and text generation. It abstracts away many \n",
        "# of the implementation details and provides a simple interface for input and output.\n",
        "# `TextWrapper` is a class that can be used to format text by wrapping long lines of text and breaking them into \n",
        "# multiple lines that fit within a specified width. In this code, it creates an instance of the `TextWrapper` class \n",
        "# with a `width` of 80 and two options: `break_long_words` and `break_on_hyphens`, which are set to `False`. \n",
        "# The `width` parameter specifies the maximum line length for the text, and the other two parameters control how words \n",
        "# are wrapped. `break_long_words` specifies whether to break long words or not, and `break_on_hyphens` specifies whether \n",
        "# to break lines at hyphens or not.\n",
        "\n",
        "from transformers import pipeline\n",
        "import textwrap\n",
        "wrapper = textwrap.TextWrapper(width=80, break_long_words=False, break_on_hyphens=False)"
      ],
      "metadata": {
        "id": "ZIgM26L2lnWp"
      },
      "execution_count": 2,
      "outputs": []
    },
    {
      "cell_type": "markdown",
      "source": [
        "## Example 1"
      ],
      "metadata": {
        "id": "z_uoseQKl7OC"
      }
    },
    {
      "cell_type": "code",
      "source": [
        "context = '''\n",
        "Singapore Airlines was founded in 1947 and was originally known as Malayan Airways. It is the national airline of Singapore and is based at Singapore Changi Airport. \n",
        "From this hub, the airline flies to more than 60 destinations, with flights to Seoul, Tokyo and Melbourne among the most popular of its routes. \n",
        "It is particularly strong in Southeast Asian and Australian destinations (the so-called Kangaroo Route), but also flies to 6 different continents, covering 35 countries.\n",
        "There are more than 100 planes in the Singapore Airlines fleet, most of which are Airbus aircraft plus a smaller amount of Boeings.\n",
        "The company is known for frequently updating the aircraft in its fleet.'''\n",
        "\n",
        "\n",
        "question = 'How many aircrafts does Singapore Airlines have?'\n",
        "\n",
        "print('Text:')\n",
        "print(wrapper.fill(context))\n",
        "print('\\nQuestion:')\n",
        "print(question)"
      ],
      "metadata": {
        "colab": {
          "base_uri": "https://localhost:8080/"
        },
        "id": "8z-rTfGElpxD",
        "outputId": "4f3127cd-c310-4665-a2b0-fcefdb628422"
      },
      "execution_count": 6,
      "outputs": [
        {
          "output_type": "stream",
          "name": "stdout",
          "text": [
            "Text:\n",
            " Singapore Airlines was founded in 1947 and was originally known as Malayan\n",
            "Airways. It is the national airline of Singapore and is based at Singapore\n",
            "Changi Airport.  From this hub, the airline flies to more than 60 destinations,\n",
            "with flights to Seoul, Tokyo and Melbourne among the most popular of its routes.\n",
            "It is particularly strong in Southeast Asian and Australian destinations (the\n",
            "so-called Kangaroo Route), but also flies to 6 different continents, covering 35\n",
            "countries. There are more than 100 planes in the Singapore Airlines fleet, most\n",
            "of which are Airbus aircraft plus a smaller amount of Boeings. The company is\n",
            "known for frequently updating the aircraft in its fleet.\n",
            "\n",
            "Question:\n",
            "How many aircrafts does Singapore Airlines have?\n"
          ]
        }
      ]
    },
    {
      "cell_type": "code",
      "source": [
        "# The code is using the Transformers library to create a question-answering pipeline using the \n",
        "# 'distilbert-base-cased-distilled-squad' model. Once the pipeline is created, it uses the context and question \n",
        "# variables to generate an answer.\n",
        "# The 'context' variable refers to the text where the answer to the question can be found, while the 'question' \n",
        "# variable refers to the actual question being asked.\n",
        "\n",
        "from transformers import pipeline\n",
        "\n",
        "qa = pipeline('question-answering', model='distilbert-base-cased-distilled-squad')\n",
        "\n",
        "print('\\nQuestion:')\n",
        "print(question + '\\n')\n",
        "print('Answer:')\n",
        "a = qa(context=context, question=question)\n",
        "a['answer']"
      ],
      "metadata": {
        "colab": {
          "base_uri": "https://localhost:8080/",
          "height": 122
        },
        "id": "TAaNaDP6lr_7",
        "outputId": "e957ed39-4a08-4e7c-f368-c2bba5e3d31a"
      },
      "execution_count": 7,
      "outputs": [
        {
          "output_type": "stream",
          "name": "stdout",
          "text": [
            "\n",
            "Question:\n",
            "How many aircrafts does Singapore Airlines have?\n",
            "\n",
            "Answer:\n"
          ]
        },
        {
          "output_type": "execute_result",
          "data": {
            "text/plain": [
              "'more than 100'"
            ],
            "application/vnd.google.colaboratory.intrinsic+json": {
              "type": "string"
            }
          },
          "metadata": {},
          "execution_count": 7
        }
      ]
    },
    {
      "cell_type": "markdown",
      "source": [
        "## Example 2"
      ],
      "metadata": {
        "id": "DhXPL93GmH3D"
      }
    },
    {
      "cell_type": "code",
      "source": [],
      "metadata": {
        "id": "VhqHh47oluZK"
      },
      "execution_count": null,
      "outputs": []
    }
  ]
}