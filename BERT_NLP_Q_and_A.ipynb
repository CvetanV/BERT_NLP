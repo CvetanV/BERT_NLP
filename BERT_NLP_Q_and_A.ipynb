{
  "nbformat": 4,
  "nbformat_minor": 0,
  "metadata": {
    "colab": {
      "provenance": [],
      "authorship_tag": "ABX9TyM5zHPN61QzoOeEF24g3RO5",
      "include_colab_link": true
    },
    "kernelspec": {
      "name": "python3",
      "display_name": "Python 3"
    },
    "language_info": {
      "name": "python"
    }
  },
  "cells": [
    {
      "cell_type": "markdown",
      "metadata": {
        "id": "view-in-github",
        "colab_type": "text"
      },
      "source": [
        "<a href=\"https://colab.research.google.com/github/CvetanV/BERT_NLP/blob/main/BERT_NLP_Q_and_A.ipynb\" target=\"_parent\"><img src=\"https://colab.research.google.com/assets/colab-badge.svg\" alt=\"Open In Colab\"/></a>"
      ]
    },
    {
      "cell_type": "code",
      "execution_count": 8,
      "metadata": {
        "id": "J0to_-LhldzW"
      },
      "outputs": [],
      "source": [
        "# Install transformers framework\n",
        "%%capture\n",
        "!pip install transformers[sentencepiece] "
      ]
    },
    {
      "cell_type": "code",
      "source": [
        "# Imports the `pipeline` function from the `transformers` library and the `TextWrapper` class from the `textwrap` module.\n",
        "# `pipeline` is a function that makes it easy to use pre-trained transformer models for a variety of natural language \n",
        "# processing (NLP) tasks, such as text classification, question answering, and text generation. It abstracts away many \n",
        "# of the implementation details and provides a simple interface for input and output.\n",
        "# `TextWrapper` is a class that can be used to format text by wrapping long lines of text and breaking them into \n",
        "# multiple lines that fit within a specified width. In this code, it creates an instance of the `TextWrapper` class \n",
        "# with a `width` of 80 and two options: `break_long_words` and `break_on_hyphens`, which are set to `False`. \n",
        "# The `width` parameter specifies the maximum line length for the text, and the other two parameters control how words \n",
        "# are wrapped. `break_long_words` specifies whether to break long words or not, and `break_on_hyphens` specifies whether \n",
        "# to break lines at hyphens or not.\n",
        "\n",
        "from transformers import pipeline\n",
        "import textwrap\n",
        "wrapper = textwrap.TextWrapper(width=80, break_long_words=False, break_on_hyphens=False)"
      ],
      "metadata": {
        "id": "ZIgM26L2lnWp"
      },
      "execution_count": 9,
      "outputs": []
    },
    {
      "cell_type": "markdown",
      "source": [
        "## Example 1"
      ],
      "metadata": {
        "id": "z_uoseQKl7OC"
      }
    },
    {
      "cell_type": "code",
      "source": [
        "context = '''\n",
        "Singapore Airlines was founded in 1947 and was originally known as Malayan Airways. It is the national airline of Singapore and is based at Singapore Changi Airport. \n",
        "From this hub, the airline flies to more than 60 destinations, with flights to Seoul, Tokyo and Melbourne among the most popular of its routes. \n",
        "It is particularly strong in Southeast Asian and Australian destinations (the so-called Kangaroo Route), but also flies to 6 different continents, covering 35 countries.\n",
        "There are more than 100 planes in the Singapore Airlines fleet, most of which are Airbus aircraft plus a smaller amount of Boeings.\n",
        "The company is known for frequently updating the aircraft in its fleet.'''\n",
        "\n",
        "\n",
        "question = 'How many aircrafts does Singapore Airlines have?'\n",
        "\n",
        "print('Text:')\n",
        "print(wrapper.fill(context))\n",
        "print('\\nQuestion:')\n",
        "print(question)"
      ],
      "metadata": {
        "colab": {
          "base_uri": "https://localhost:8080/"
        },
        "id": "8z-rTfGElpxD",
        "outputId": "e9936067-5138-4d09-88ac-5bf40512021d"
      },
      "execution_count": 10,
      "outputs": [
        {
          "output_type": "stream",
          "name": "stdout",
          "text": [
            "Text:\n",
            " Singapore Airlines was founded in 1947 and was originally known as Malayan\n",
            "Airways. It is the national airline of Singapore and is based at Singapore\n",
            "Changi Airport.  From this hub, the airline flies to more than 60 destinations,\n",
            "with flights to Seoul, Tokyo and Melbourne among the most popular of its routes.\n",
            "It is particularly strong in Southeast Asian and Australian destinations (the\n",
            "so-called Kangaroo Route), but also flies to 6 different continents, covering 35\n",
            "countries. There are more than 100 planes in the Singapore Airlines fleet, most\n",
            "of which are Airbus aircraft plus a smaller amount of Boeings. The company is\n",
            "known for frequently updating the aircraft in its fleet.\n",
            "\n",
            "Question:\n",
            "How many aircrafts does Singapore Airlines have?\n"
          ]
        }
      ]
    },
    {
      "cell_type": "code",
      "source": [
        "# The code is using the Transformers library to create a question-answering pipeline using the \n",
        "# 'distilbert-base-cased-distilled-squad' model. Once the pipeline is created, it uses the context and question \n",
        "# variables to generate an answer.\n",
        "# The 'context' variable refers to the text where the answer to the question can be found, while the 'question' \n",
        "# variable refers to the actual question being asked.\n",
        "\n",
        "from transformers import pipeline\n",
        "\n",
        "qa = pipeline('question-answering', model='distilbert-base-cased-distilled-squad')\n",
        "\n",
        "print('\\nQuestion:')\n",
        "print(question + '\\n')\n",
        "print('Answer:')\n",
        "a = qa(context=context, question=question)\n",
        "a['answer']"
      ],
      "metadata": {
        "colab": {
          "base_uri": "https://localhost:8080/",
          "height": 122
        },
        "id": "TAaNaDP6lr_7",
        "outputId": "465bc7e6-86bb-41ff-95b2-4a0090fa6137"
      },
      "execution_count": 11,
      "outputs": [
        {
          "output_type": "stream",
          "name": "stdout",
          "text": [
            "\n",
            "Question:\n",
            "How many aircrafts does Singapore Airlines have?\n",
            "\n",
            "Answer:\n"
          ]
        },
        {
          "output_type": "execute_result",
          "data": {
            "text/plain": [
              "'more than 100'"
            ],
            "application/vnd.google.colaboratory.intrinsic+json": {
              "type": "string"
            }
          },
          "metadata": {},
          "execution_count": 11
        }
      ]
    },
    {
      "cell_type": "markdown",
      "source": [
        "## Example 2"
      ],
      "metadata": {
        "id": "DhXPL93GmH3D"
      }
    },
    {
      "cell_type": "code",
      "source": [
        "context = '''\n",
        "The General Motors Company (GM) is an American multinational automotive manufacturing company headquartered in Detroit, \n",
        "Michigan, United States. By sales, it was the largest automaker in the United States in 2022, and was the largest in \n",
        "the world for 77 years before losing the top spot to Toyota in 2008.\n",
        "General Motors operates manufacturing plants in eight countries. Its four core automobile brands are Chevrolet, Buick, \n",
        "GMC, and Cadillac. It also holds interests in Chinese brands Baojun and Wuling via SAIC-GM-Wuling Automobile.\n",
        "GM also owns the BrightDrop delivery vehicle manufacturer, a namesake defense vehicles division which produces military \n",
        "vehicles for the United States government and military, the vehicle safety, security, and information services provider\n",
        "OnStar, the auto parts company ACDelco, a namesake financial lending service, and majority ownership in the self-driving \n",
        "cars enterprise Cruise LLC.\n",
        "In January 2021, GM announced plans to end production and sales of vehicles using internal combustion engines, including \n",
        "hybrid vehicles and plug-in hybrids, by 2035, as part of its plan to achieve carbon neutrality by 2040. GM offers more \n",
        "flexible-fuel vehicles, which can operate on either E85 ethanol fuel or gasoline, or any blend of both, than any other automaker.\n",
        "The company traces itself to a holding company for Buick established on September 16, 1908, by William C. Durant, the largest \n",
        "seller of horse-drawn vehicles at the time. The current entity was established in 2009 after the General Motors Chapter 11 reorganization.\n",
        "As of January 2023, GM is ranked 25th on the Fortune 500 rankings of the largest United States corporations by total revenue.'''\n",
        "\n",
        "question = 'How many brands are under the General Motors Company, and what are their names?'\n",
        "\n",
        "print('Text:')\n",
        "print(wrapper.fill(context))\n",
        "print('\\nQuestion:')\n",
        "print(question)"
      ],
      "metadata": {
        "colab": {
          "base_uri": "https://localhost:8080/"
        },
        "id": "VhqHh47oluZK",
        "outputId": "e67eace5-1955-419c-adb9-b0fa6c7243fe"
      },
      "execution_count": 14,
      "outputs": [
        {
          "output_type": "stream",
          "name": "stdout",
          "text": [
            "Text:\n",
            " The General Motors Company (GM) is an American multinational automotive\n",
            "manufacturing company headquartered in Detroit,  Michigan, United States. By\n",
            "sales, it was the largest automaker in the United States in 2022, and was the\n",
            "largest in  the world for 77 years before losing the top spot to Toyota in 2008.\n",
            "General Motors operates manufacturing plants in eight countries. Its four core\n",
            "automobile brands are Chevrolet, Buick,  GMC, and Cadillac. It also holds\n",
            "interests in Chinese brands Baojun and Wuling via SAIC-GM-Wuling Automobile. GM\n",
            "also owns the BrightDrop delivery vehicle manufacturer, a namesake defense\n",
            "vehicles division which produces military  vehicles for the United States\n",
            "government and military, the vehicle safety, security, and information services\n",
            "provider OnStar, the auto parts company ACDelco, a namesake financial lending\n",
            "service, and majority ownership in the self-driving  cars enterprise Cruise LLC.\n",
            "In January 2021, GM announced plans to end production and sales of vehicles\n",
            "using internal combustion engines, including  hybrid vehicles and plug-in\n",
            "hybrids, by 2035, as part of its plan to achieve carbon neutrality by 2040. GM\n",
            "offers more  flexible-fuel vehicles, which can operate on either E85 ethanol\n",
            "fuel or gasoline, or any blend of both, than any other automaker. The company\n",
            "traces itself to a holding company for Buick established on September 16, 1908,\n",
            "by William C. Durant, the largest  seller of horse-drawn vehicles at the time.\n",
            "The current entity was established in 2009 after the General Motors Chapter 11\n",
            "reorganization. As of January 2023, GM is ranked 25th on the Fortune 500\n",
            "rankings of the largest United States corporations by total revenue.\n",
            "\n",
            "Question:\n",
            "How many brands are under the General Motors Company, and what are their names?\n"
          ]
        }
      ]
    },
    {
      "cell_type": "code",
      "source": [
        "from transformers import pipeline\n",
        "\n",
        "qa = pipeline('question-answering', model='distilbert-base-cased-distilled-squad')\n",
        "\n",
        "print('\\nQuestion:')\n",
        "print(question + '\\n')\n",
        "print('Answer:')\n",
        "a = qa(context=context, question=question)\n",
        "a['answer']"
      ],
      "metadata": {
        "colab": {
          "base_uri": "https://localhost:8080/",
          "height": 122
        },
        "id": "m60qWMzwrjsU",
        "outputId": "cab1d17e-3507-476e-addd-7457800a3b25"
      },
      "execution_count": 15,
      "outputs": [
        {
          "output_type": "stream",
          "name": "stdout",
          "text": [
            "\n",
            "Question:\n",
            "How many brands are under the General Motors Company, and what are their names?\n",
            "\n",
            "Answer:\n"
          ]
        },
        {
          "output_type": "execute_result",
          "data": {
            "text/plain": [
              "'Chevrolet, Buick, \\nGMC, and Cadillac'"
            ],
            "application/vnd.google.colaboratory.intrinsic+json": {
              "type": "string"
            }
          },
          "metadata": {},
          "execution_count": 15
        }
      ]
    },
    {
      "cell_type": "code",
      "source": [],
      "metadata": {
        "id": "mRllx2Bmroey"
      },
      "execution_count": null,
      "outputs": []
    }
  ]
}